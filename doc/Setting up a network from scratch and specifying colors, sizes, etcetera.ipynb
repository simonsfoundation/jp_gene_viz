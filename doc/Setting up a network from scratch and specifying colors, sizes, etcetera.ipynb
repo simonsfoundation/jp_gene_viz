{
 "cells": [
  {
   "cell_type": "markdown",
   "metadata": {},
   "source": [
    "# How to customize nodes, labels and edges\n",
    "\n",
    "\n",
    "This notebook shows how to set up a network widget directly\n",
    "and how to customize various display parameters.\n",
    "\n",
    "At the moment you must load the data into the network\n",
    "before modifying the visual attributes of the components."
   ]
  },
  {
   "cell_type": "code",
   "execution_count": null,
   "metadata": {},
   "outputs": [],
   "source": [
    "from jp_gene_viz import dNetwork\n",
    "from jp_gene_viz import dGraph\n",
    "from jp_gene_viz import dLayout\n",
    "dNetwork.load_javascript_support()"
   ]
  },
  {
   "cell_type": "code",
   "execution_count": null,
   "metadata": {},
   "outputs": [],
   "source": [
    "N = dNetwork.NetworkDisplay()\n",
    "G = dGraph.WGraph()\n",
    "\n",
    "# First: Load the Graph and Network (with fake data in this case)\n",
    "nodes = set()\n",
    "edges = set()\n",
    "for i in range(30):\n",
    "    target = \"T\" + repr(i)\n",
    "    nodes.add(target)  # remember the node name\n",
    "    for j in (5,11):\n",
    "        k = (i+1) % j\n",
    "        regulator = \"R\" + repr(k)\n",
    "        beta = (i+1) * 1.0 / (i + j + 1)\n",
    "        # add the edge\n",
    "        G.add_edge(regulator, target, beta, {})\n",
    "        # remember the target node name and the *ordered* edge\n",
    "        nodes.add(regulator)\n",
    "        edges.add((regulator, target))\n",
    "        \n",
    "# choose an initial layout\n",
    "(layout, rectangles) = dLayout.group_layout(G)\n",
    "\n",
    "# load graph data and initial layout into network display.\n",
    "N.load_data(G, layout)\n",
    "\n",
    "# override node and label styles (after nodes have been loaded)\n",
    "node_colors = \"pink purple red brown khaki\".split()\n",
    "for (i, name) in enumerate(nodes):\n",
    "    # select a node color\n",
    "    node_color = None # no override\n",
    "    # select a node shape (either \"circle\" or \"rect\")\n",
    "    node_shape = \"circle\"  # or \"rect\"\n",
    "    # select the node size (radius)\n",
    "    node_radius = 2\n",
    "    \n",
    "    # select a label color\n",
    "    label_color = \"green\"\n",
    "    # either show or hide the label.\n",
    "    label_hide = True\n",
    "    # select the font size\n",
    "    label_font_size = 3\n",
    "    # select the font style\n",
    "    label_font_style = \"italic\"\n",
    "    # select the font weight\n",
    "    label_font_weight = \"lighter\"\n",
    "    # Make some (arbitrary) adjustments for the settings\n",
    "    if ((i%5)<2):\n",
    "        node_color = node_colors[i % len(node_colors)]\n",
    "        label_font_weight = \"bold\"\n",
    "        label_font_size = 7\n",
    "        label_hide = False\n",
    "    if ((i%7)>4):\n",
    "        node_radius = 5\n",
    "        node_shape = \"rect\"\n",
    "        label_hide = False\n",
    "        label_color = \"red\"\n",
    "    # Apply the style changes to the node and label.\n",
    "    N.override_node(name, color=node_color, shape=node_shape, radius=node_radius)\n",
    "    N.override_label(name, color=label_color, hide=label_hide, font_size=label_font_size,\n",
    "                    font_weight=label_font_weight)\n",
    "    \n",
    "# override edge colors (after load)\n",
    "edge_colors = \"green blue cyan magenta\".split()\n",
    "for (i, (src, dst)) in enumerate(edges):\n",
    "    # Set the edge color.\n",
    "    color = edge_colors[i % len(edge_colors)]\n",
    "    # Set the edge width\n",
    "    stroke_width = 2\n",
    "    # Set the line dash array\n",
    "    stroke_dasharray = None  # No dash means continuous\n",
    "    if ((i % 3) == 0):\n",
    "        stroke_dasharray = \"5,3,1\"  # repeated pattern (SVG style format)\n",
    "        stroke_width = 1\n",
    "        color = \"rgb(200, 200, 200)\"  # light grey\n",
    "    # configure the edge.\n",
    "    N.override_edge(src, dst, color=color, stroke_width=stroke_width,\n",
    "                   stroke_dasharray=stroke_dasharray)\n",
    "    \n",
    "# show labels\n",
    "N.labels_button.value = True\n",
    "\n",
    "# rerun the layout\n",
    "N.layout_click()\n",
    "    \n",
    "# draw the network with the new colors and sizes\n",
    "N.draw()\n",
    "\n",
    "# show the network\n",
    "N.show()"
   ]
  },
  {
   "cell_type": "code",
   "execution_count": null,
   "metadata": {},
   "outputs": [],
   "source": [
    "# Save the network as a trivial html file containing a single SVG tag.\n",
    "N.save_as_SVG_file(\"Example.html\")"
   ]
  },
  {
   "cell_type": "code",
   "execution_count": null,
   "metadata": {},
   "outputs": [],
   "source": [
    "# This will only work if you are running the Jupyter server on localhost!\n",
    "import webbrowser, os\n",
    "webbrowser.open(\"file://\" + os.path.realpath(\"Example.html\"))"
   ]
  },
  {
   "cell_type": "code",
   "execution_count": null,
   "metadata": {},
   "outputs": [],
   "source": []
  }
 ],
 "metadata": {
  "kernelspec": {
   "display_name": "Python 2",
   "language": "python",
   "name": "python2"
  },
  "language_info": {
   "codemirror_mode": {
    "name": "ipython",
    "version": 2
   },
   "file_extension": ".py",
   "mimetype": "text/x-python",
   "name": "python",
   "nbconvert_exporter": "python",
   "pygments_lexer": "ipython2",
   "version": "2.7.15"
  }
 },
 "nbformat": 4,
 "nbformat_minor": 2
}
